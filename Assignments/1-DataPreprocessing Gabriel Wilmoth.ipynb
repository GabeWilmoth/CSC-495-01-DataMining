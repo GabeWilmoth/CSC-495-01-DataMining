{
 "cells": [
  {
   "cell_type": "markdown",
   "metadata": {},
   "source": [
    "# 1-Data PreProcessing\n",
    "## Gabriel Wilmoth"
   ]
  },
  {
   "cell_type": "code",
   "execution_count": 13,
   "metadata": {},
   "outputs": [],
   "source": [
    "import numpy as np    # for carrying out efficient computations\n",
    "import pandas as pd   # for data manipulation and analysis\n",
    "import seaborn as sns # library for making statistical graphics in Python\n",
    "import matplotlib.pyplot as plt  #for visualizing the data\n",
    "import math\n",
    "import scipy \n",
    "from scipy import stats\n",
    "\n",
    "%matplotlib inline  "
   ]
  },
  {
   "cell_type": "code",
   "execution_count": 2,
   "metadata": {},
   "outputs": [],
   "source": [
    "video = pd.read_csv('./Data/Video_Store.tsv', sep='\\t', header=0)"
   ]
  },
  {
   "cell_type": "code",
   "execution_count": 3,
   "metadata": {},
   "outputs": [
    {
     "data": {
      "text/html": [
       "<div>\n",
       "<style scoped>\n",
       "    .dataframe tbody tr th:only-of-type {\n",
       "        vertical-align: middle;\n",
       "    }\n",
       "\n",
       "    .dataframe tbody tr th {\n",
       "        vertical-align: top;\n",
       "    }\n",
       "\n",
       "    .dataframe thead th {\n",
       "        text-align: right;\n",
       "    }\n",
       "</style>\n",
       "<table border=\"1\" class=\"dataframe\">\n",
       "  <thead>\n",
       "    <tr style=\"text-align: right;\">\n",
       "      <th></th>\n",
       "      <th>Cust ID</th>\n",
       "      <th>Gender</th>\n",
       "      <th>Income</th>\n",
       "      <th>Age</th>\n",
       "      <th>Rentals</th>\n",
       "      <th>Avg Per Visit</th>\n",
       "      <th>Incidentals</th>\n",
       "      <th>Genre</th>\n",
       "    </tr>\n",
       "  </thead>\n",
       "  <tbody>\n",
       "    <tr>\n",
       "      <th>0</th>\n",
       "      <td>1</td>\n",
       "      <td>M</td>\n",
       "      <td>$45,000</td>\n",
       "      <td>25</td>\n",
       "      <td>27</td>\n",
       "      <td>2.5</td>\n",
       "      <td>Yes</td>\n",
       "      <td>Action</td>\n",
       "    </tr>\n",
       "    <tr>\n",
       "      <th>1</th>\n",
       "      <td>2</td>\n",
       "      <td>F</td>\n",
       "      <td>$54,000</td>\n",
       "      <td>33</td>\n",
       "      <td>12</td>\n",
       "      <td>3.4</td>\n",
       "      <td>No</td>\n",
       "      <td>Drama</td>\n",
       "    </tr>\n",
       "    <tr>\n",
       "      <th>2</th>\n",
       "      <td>3</td>\n",
       "      <td>F</td>\n",
       "      <td>$32,000</td>\n",
       "      <td>20</td>\n",
       "      <td>42</td>\n",
       "      <td>1.6</td>\n",
       "      <td>No</td>\n",
       "      <td>Comedy</td>\n",
       "    </tr>\n",
       "    <tr>\n",
       "      <th>3</th>\n",
       "      <td>4</td>\n",
       "      <td>F</td>\n",
       "      <td>$59,000</td>\n",
       "      <td>70</td>\n",
       "      <td>16</td>\n",
       "      <td>4.2</td>\n",
       "      <td>Yes</td>\n",
       "      <td>Drama</td>\n",
       "    </tr>\n",
       "    <tr>\n",
       "      <th>4</th>\n",
       "      <td>5</td>\n",
       "      <td>M</td>\n",
       "      <td>$37,000</td>\n",
       "      <td>35</td>\n",
       "      <td>25</td>\n",
       "      <td>3.2</td>\n",
       "      <td>Yes</td>\n",
       "      <td>Action</td>\n",
       "    </tr>\n",
       "  </tbody>\n",
       "</table>\n",
       "</div>"
      ],
      "text/plain": [
       "   Cust ID Gender   Income  Age  Rentals  Avg Per Visit Incidentals   Genre\n",
       "0        1      M  $45,000   25       27            2.5         Yes  Action\n",
       "1        2      F  $54,000   33       12            3.4          No   Drama\n",
       "2        3      F  $32,000   20       42            1.6          No  Comedy\n",
       "3        4      F  $59,000   70       16            4.2         Yes   Drama\n",
       "4        5      M  $37,000   35       25            3.2         Yes  Action"
      ]
     },
     "execution_count": 3,
     "metadata": {},
     "output_type": "execute_result"
    }
   ],
   "source": [
    "video.head()"
   ]
  },
  {
   "cell_type": "markdown",
   "metadata": {},
   "source": [
    "## Q1.\n",
    "#### How many features are there?\n",
    " - There are 8 features.\n",
    " \n",
    "## Q2.\n",
    "#### How many features are continuous, and how many are nominal?\n",
    " - Continuous: Income, Age, Rentals, Avg Per Visit\n",
    " - Nominal: Cust ID, Gender, Incidentals, Genre"
   ]
  },
  {
   "cell_type": "code",
   "execution_count": 4,
   "metadata": {},
   "outputs": [],
   "source": [
    "video[\"Income\"] = video[\"Income\"].str.replace('$','')\n",
    "video[\"Income\"] = video[\"Income\"].str.replace(',','')\n",
    "video[\"Income\"] = video[\"Income\"].astype(float)"
   ]
  },
  {
   "cell_type": "code",
   "execution_count": 5,
   "metadata": {},
   "outputs": [
    {
     "data": {
      "text/html": [
       "<div>\n",
       "<style scoped>\n",
       "    .dataframe tbody tr th:only-of-type {\n",
       "        vertical-align: middle;\n",
       "    }\n",
       "\n",
       "    .dataframe tbody tr th {\n",
       "        vertical-align: top;\n",
       "    }\n",
       "\n",
       "    .dataframe thead th {\n",
       "        text-align: right;\n",
       "    }\n",
       "</style>\n",
       "<table border=\"1\" class=\"dataframe\">\n",
       "  <thead>\n",
       "    <tr style=\"text-align: right;\">\n",
       "      <th></th>\n",
       "      <th>Cust ID</th>\n",
       "      <th>Gender</th>\n",
       "      <th>Income</th>\n",
       "      <th>Age</th>\n",
       "      <th>Rentals</th>\n",
       "      <th>Avg Per Visit</th>\n",
       "      <th>Incidentals</th>\n",
       "      <th>Genre</th>\n",
       "    </tr>\n",
       "  </thead>\n",
       "  <tbody>\n",
       "    <tr>\n",
       "      <th>0</th>\n",
       "      <td>1</td>\n",
       "      <td>M</td>\n",
       "      <td>45000.0</td>\n",
       "      <td>25</td>\n",
       "      <td>27</td>\n",
       "      <td>2.5</td>\n",
       "      <td>Yes</td>\n",
       "      <td>Action</td>\n",
       "    </tr>\n",
       "    <tr>\n",
       "      <th>1</th>\n",
       "      <td>2</td>\n",
       "      <td>F</td>\n",
       "      <td>54000.0</td>\n",
       "      <td>33</td>\n",
       "      <td>12</td>\n",
       "      <td>3.4</td>\n",
       "      <td>No</td>\n",
       "      <td>Drama</td>\n",
       "    </tr>\n",
       "    <tr>\n",
       "      <th>2</th>\n",
       "      <td>3</td>\n",
       "      <td>F</td>\n",
       "      <td>32000.0</td>\n",
       "      <td>20</td>\n",
       "      <td>42</td>\n",
       "      <td>1.6</td>\n",
       "      <td>No</td>\n",
       "      <td>Comedy</td>\n",
       "    </tr>\n",
       "    <tr>\n",
       "      <th>3</th>\n",
       "      <td>4</td>\n",
       "      <td>F</td>\n",
       "      <td>59000.0</td>\n",
       "      <td>70</td>\n",
       "      <td>16</td>\n",
       "      <td>4.2</td>\n",
       "      <td>Yes</td>\n",
       "      <td>Drama</td>\n",
       "    </tr>\n",
       "    <tr>\n",
       "      <th>4</th>\n",
       "      <td>5</td>\n",
       "      <td>M</td>\n",
       "      <td>37000.0</td>\n",
       "      <td>35</td>\n",
       "      <td>25</td>\n",
       "      <td>3.2</td>\n",
       "      <td>Yes</td>\n",
       "      <td>Action</td>\n",
       "    </tr>\n",
       "  </tbody>\n",
       "</table>\n",
       "</div>"
      ],
      "text/plain": [
       "   Cust ID Gender   Income  Age  Rentals  Avg Per Visit Incidentals   Genre\n",
       "0        1      M  45000.0   25       27            2.5         Yes  Action\n",
       "1        2      F  54000.0   33       12            3.4          No   Drama\n",
       "2        3      F  32000.0   20       42            1.6          No  Comedy\n",
       "3        4      F  59000.0   70       16            4.2         Yes   Drama\n",
       "4        5      M  37000.0   35       25            3.2         Yes  Action"
      ]
     },
     "execution_count": 5,
     "metadata": {},
     "output_type": "execute_result"
    }
   ],
   "source": [
    "video.head()"
   ]
  },
  {
   "cell_type": "markdown",
   "metadata": {},
   "source": [
    "## Q3.\n",
    "#### For the continuous features, what are the average, median, maximum, and minimum values? What is the standard deviation?\n",
    "\n",
    "#### Income Stats:"
   ]
  },
  {
   "cell_type": "code",
   "execution_count": 6,
   "metadata": {},
   "outputs": [
    {
     "name": "stdout",
     "output_type": "stream",
     "text": [
      "Mean: 42300.0\n",
      "Median: 41000.0\n",
      "Max: 89000.0\n",
      "Min: 1000.0\n",
      "Standard Dev: 21409.753642216627\n"
     ]
    }
   ],
   "source": [
    "print('Mean:' , video[\"Income\"].mean())\n",
    "print('Median:' , video[\"Income\"].median())\n",
    "print('Max:' , video[\"Income\"].max())\n",
    "print('Min:' , video[\"Income\"].min())\n",
    "print('Standard Dev:' , video[\"Income\"].std())"
   ]
  },
  {
   "cell_type": "markdown",
   "metadata": {},
   "source": [
    "#### Age Stats:"
   ]
  },
  {
   "cell_type": "code",
   "execution_count": 7,
   "metadata": {},
   "outputs": [
    {
     "name": "stdout",
     "output_type": "stream",
     "text": [
      "Mean: 31.56\n",
      "Median: 30.0\n",
      "Max: 70\n",
      "Min: 15\n",
      "Standard Dev: 12.000272105758475\n"
     ]
    }
   ],
   "source": [
    "print('Mean:' , video[\"Age\"].mean())\n",
    "print('Median:' , video[\"Age\"].median())\n",
    "print('Max:' , video[\"Age\"].max())\n",
    "print('Min:' , video[\"Age\"].min())\n",
    "print('Standard Dev:' , video[\"Age\"].std())"
   ]
  },
  {
   "cell_type": "markdown",
   "metadata": {},
   "source": [
    "#### Rentals Stats:"
   ]
  },
  {
   "cell_type": "code",
   "execution_count": 8,
   "metadata": {},
   "outputs": [
    {
     "name": "stdout",
     "output_type": "stream",
     "text": [
      "Mean: 26.24\n",
      "Median: 25.0\n",
      "Max: 48\n",
      "Min: 9\n",
      "Standard Dev: 10.027635283941828\n"
     ]
    }
   ],
   "source": [
    "print('Mean:' , video[\"Rentals\"].mean())\n",
    "print('Median:' , video[\"Rentals\"].median())\n",
    "print('Max:' , video[\"Rentals\"].max())\n",
    "print('Min:' , video[\"Rentals\"].min())\n",
    "print('Standard Dev:' , video[\"Rentals\"].std())"
   ]
  },
  {
   "cell_type": "markdown",
   "metadata": {},
   "source": [
    "#### Avg Per Visit Stats:"
   ]
  },
  {
   "cell_type": "code",
   "execution_count": 9,
   "metadata": {},
   "outputs": [
    {
     "name": "stdout",
     "output_type": "stream",
     "text": [
      "Mean: 2.748\n",
      "Median: 2.75\n",
      "Max: 4.7\n",
      "Min: 1.1\n",
      "Standard Dev: 0.8981250310667058\n"
     ]
    }
   ],
   "source": [
    "print('Mean:' , video[\"Avg Per Visit\"].mean())\n",
    "print('Median:' , video[\"Avg Per Visit\"].median())\n",
    "print('Max:' , video[\"Avg Per Visit\"].max())\n",
    "print('Min:' , video[\"Avg Per Visit\"].min())\n",
    "print('Standard Dev:' , video[\"Avg Per Visit\"].std())"
   ]
  },
  {
   "cell_type": "markdown",
   "metadata": {},
   "source": [
    "## Q4.\n",
    "\n",
    "#### Perform the the following data preparation steps on the data (for each add a new column to the original table for comparison purposes)\n",
    "1. Use <strong> smoothing by bin means </strong> to smooth the values of the <strong>Age</strong> attribute. Use a <strong>bin depth of 4</strong>.\n",
    "2. Use <strong>min-max normalization</strong> to transform the values of the <strong>Income</strong> attribute onto the range <strong>[0.0-1.0]</strong>.\n",
    "3. Use <strong>z-score normalization</strong> to standardize the values of the <strong>Rentals</strong> attribute.\n",
    "4. <strong>Discretize</strong> the (original, non-normalized) <strong>Income</strong> attribute based on the following categories: High = 60K+; Mid = 25K-59K; Low = less than $25K."
   ]
  },
  {
   "cell_type": "code",
   "execution_count": 32,
   "metadata": {},
   "outputs": [],
   "source": [
    "bin_means, bin_edges, binnumber = stats.binned_statistic(video[\"Age\"], video[\"Age\"], 'mean', bins=4)"
   ]
  },
  {
   "cell_type": "code",
   "execution_count": 33,
   "metadata": {},
   "outputs": [
    {
     "name": "stdout",
     "output_type": "stream",
     "text": [
      "21.391304347826086\n",
      "34.23529411764706\n",
      "48.22222222222222\n",
      "70.0\n"
     ]
    }
   ],
   "source": [
    "for x in bin_means:\n",
    "    print(x)"
   ]
  },
  {
   "cell_type": "code",
   "execution_count": 34,
   "metadata": {},
   "outputs": [
    {
     "data": {
      "text/plain": [
       "BinnedStatisticResult(statistic=array([21.39130435, 34.23529412, 48.22222222, 70.        ]), bin_edges=array([15.  , 28.75, 42.5 , 56.25, 70.  ]), binnumber=array([1, 2, 1, 4, 2, 1, 3, 1, 1, 2, 1, 1, 3, 2, 2, 1, 2, 1, 1, 1, 3, 2,\n",
       "       1, 2, 1, 2, 3, 3, 1, 1, 3, 2, 1, 2, 2, 1, 3, 2, 2, 1, 2, 1, 1, 1,\n",
       "       2, 3, 2, 3, 1, 1], dtype=int64))"
      ]
     },
     "execution_count": 34,
     "metadata": {},
     "output_type": "execute_result"
    }
   ],
   "source": [
    "stats.binned_statistic(video[\"Age\"], video[\"Age\"], 'mean', bins=4)"
   ]
  },
  {
   "cell_type": "code",
   "execution_count": 35,
   "metadata": {},
   "outputs": [
    {
     "name": "stdout",
     "output_type": "stream",
     "text": [
      "    Cust ID Gender   Income  Age  Rentals  Avg Per Visit Incidentals   Genre\n",
      "0         1      M  45000.0   25       27            2.5         Yes  Action\n",
      "1         2      F  54000.0   33       12            3.4          No   Drama\n",
      "2         3      F  32000.0   20       42            1.6          No  Comedy\n",
      "3         4      F  59000.0   70       16            4.2         Yes   Drama\n",
      "4         5      M  37000.0   35       25            3.2         Yes  Action\n",
      "5         6      M  18000.0   20       33            1.7          No  Action\n",
      "6         7      F  29000.0   45       19            3.8          No   Drama\n",
      "7         8      M  74000.0   25       31            2.4         Yes  Action\n",
      "8         9      M  38000.0   21       18            2.1          No  Comedy\n",
      "9        10      F  65000.0   40       21            3.3          No   Drama\n",
      "10       11      F  41000.0   22       48            2.3         Yes   Drama\n",
      "11       12      F  26000.0   22       29            2.9         Yes  Action\n",
      "12       13      M  83000.0   46       14            3.6          No  Comedy\n",
      "13       14      M  45000.0   36       24            2.7          No   Drama\n",
      "14       15      M  68000.0   30       36            2.7         Yes  Comedy\n",
      "15       16      M  17000.0   19       26            2.2         Yes  Action\n",
      "16       17      M  36000.0   35       28            3.5         Yes   Drama\n",
      "17       18      F   6000.0   16       39            1.8         Yes  Action\n",
      "18       19      F  24000.0   25       41            3.1          No  Comedy\n",
      "19       20      M  12000.0   16       23            2.2         Yes  Action\n",
      "20       21      F  47000.0   52       11            3.1          No   Drama\n",
      "21       22      M  25000.0   33       16            2.9         Yes   Drama\n",
      "22       23      F   2000.0   15       30            2.5          No  Comedy\n",
      "23       24      F  79000.0   35       22            3.8         Yes   Drama\n",
      "24       25      M   1000.0   16       25            1.4         Yes  Comedy\n",
      "25       26      F  56000.0   35       40            2.6         Yes  Action\n",
      "26       27      F  62000.0   47       32            3.6          No   Drama\n",
      "27       28      M  57000.0   52       22            4.1          No  Comedy\n",
      "28       29      F  15000.0   18       37            2.1         Yes  Action\n",
      "29       30      M  41000.0   25       17            1.4         Yes  Action\n",
      "30       31      F  49000.0   56       15            3.2          No  Comedy\n",
      "31       32      M  47000.0   30       21            3.1         Yes   Drama\n",
      "32       33      M  23000.0   25       28            2.7          No  Action\n",
      "33       34      F  29000.0   32       19            2.9         Yes  Action\n",
      "34       35      M  74000.0   29       43            4.6         Yes  Action\n",
      "35       36      F  29000.0   21       34            2.3          No  Comedy\n",
      "36       37      M  89000.0   46       12            1.2          No  Comedy\n",
      "37       38      M  41000.0   38       20            3.3         Yes   Drama\n",
      "38       39      F  68000.0   35       19            3.9          No  Comedy\n",
      "39       40      M  17000.0   19       32            1.8          No  Action\n",
      "40       41      F  50000.0   33       17            1.4          No   Drama\n",
      "41       42      M  32000.0   25       26            2.2         Yes  Action\n",
      "42       43      F  49000.0   28       48            3.3         Yes   Drama\n",
      "43       44      M  35000.0   24       24            1.7          No   Drama\n",
      "44       45      M  56000.0   38       30            3.5         Yes   Drama\n",
      "45       46      F  57000.0   43        9            1.1          No   Drama\n",
      "46       47      F  69000.0   35       22            2.8         Yes   Drama\n",
      "47       48      F  52000.0   47       14            1.6          No   Drama\n",
      "48       49      M  31000.0   25       42            3.4         Yes  Action\n",
      "49       50      M  24000.0   20       33            4.7          No  Action\n"
     ]
    }
   ],
   "source": [
    "print(video)"
   ]
  },
  {
   "cell_type": "code",
   "execution_count": 20,
   "metadata": {},
   "outputs": [
    {
     "ename": "ValueError",
     "evalue": "Length of values does not match length of index",
     "output_type": "error",
     "traceback": [
      "\u001b[1;31m---------------------------------------------------------------------------\u001b[0m",
      "\u001b[1;31mValueError\u001b[0m                                Traceback (most recent call last)",
      "\u001b[1;32m<ipython-input-20-89d51f84fd93>\u001b[0m in \u001b[0;36m<module>\u001b[1;34m\u001b[0m\n\u001b[1;32m----> 1\u001b[1;33m \u001b[0mvideo\u001b[0m\u001b[1;33m[\u001b[0m\u001b[1;34m\"AgeMeanBin\"\u001b[0m\u001b[1;33m]\u001b[0m \u001b[1;33m=\u001b[0m \u001b[0mbin_means\u001b[0m\u001b[1;33m\u001b[0m\u001b[1;33m\u001b[0m\u001b[0m\n\u001b[0m",
      "\u001b[1;32m~\\Anaconda3\\lib\\site-packages\\pandas\\core\\frame.py\u001b[0m in \u001b[0;36m__setitem__\u001b[1;34m(self, key, value)\u001b[0m\n\u001b[0;32m   3117\u001b[0m         \u001b[1;32melse\u001b[0m\u001b[1;33m:\u001b[0m\u001b[1;33m\u001b[0m\u001b[1;33m\u001b[0m\u001b[0m\n\u001b[0;32m   3118\u001b[0m             \u001b[1;31m# set column\u001b[0m\u001b[1;33m\u001b[0m\u001b[1;33m\u001b[0m\u001b[1;33m\u001b[0m\u001b[0m\n\u001b[1;32m-> 3119\u001b[1;33m             \u001b[0mself\u001b[0m\u001b[1;33m.\u001b[0m\u001b[0m_set_item\u001b[0m\u001b[1;33m(\u001b[0m\u001b[0mkey\u001b[0m\u001b[1;33m,\u001b[0m \u001b[0mvalue\u001b[0m\u001b[1;33m)\u001b[0m\u001b[1;33m\u001b[0m\u001b[1;33m\u001b[0m\u001b[0m\n\u001b[0m\u001b[0;32m   3120\u001b[0m \u001b[1;33m\u001b[0m\u001b[0m\n\u001b[0;32m   3121\u001b[0m     \u001b[1;32mdef\u001b[0m \u001b[0m_setitem_slice\u001b[0m\u001b[1;33m(\u001b[0m\u001b[0mself\u001b[0m\u001b[1;33m,\u001b[0m \u001b[0mkey\u001b[0m\u001b[1;33m,\u001b[0m \u001b[0mvalue\u001b[0m\u001b[1;33m)\u001b[0m\u001b[1;33m:\u001b[0m\u001b[1;33m\u001b[0m\u001b[1;33m\u001b[0m\u001b[0m\n",
      "\u001b[1;32m~\\Anaconda3\\lib\\site-packages\\pandas\\core\\frame.py\u001b[0m in \u001b[0;36m_set_item\u001b[1;34m(self, key, value)\u001b[0m\n\u001b[0;32m   3192\u001b[0m \u001b[1;33m\u001b[0m\u001b[0m\n\u001b[0;32m   3193\u001b[0m         \u001b[0mself\u001b[0m\u001b[1;33m.\u001b[0m\u001b[0m_ensure_valid_index\u001b[0m\u001b[1;33m(\u001b[0m\u001b[0mvalue\u001b[0m\u001b[1;33m)\u001b[0m\u001b[1;33m\u001b[0m\u001b[1;33m\u001b[0m\u001b[0m\n\u001b[1;32m-> 3194\u001b[1;33m         \u001b[0mvalue\u001b[0m \u001b[1;33m=\u001b[0m \u001b[0mself\u001b[0m\u001b[1;33m.\u001b[0m\u001b[0m_sanitize_column\u001b[0m\u001b[1;33m(\u001b[0m\u001b[0mkey\u001b[0m\u001b[1;33m,\u001b[0m \u001b[0mvalue\u001b[0m\u001b[1;33m)\u001b[0m\u001b[1;33m\u001b[0m\u001b[1;33m\u001b[0m\u001b[0m\n\u001b[0m\u001b[0;32m   3195\u001b[0m         \u001b[0mNDFrame\u001b[0m\u001b[1;33m.\u001b[0m\u001b[0m_set_item\u001b[0m\u001b[1;33m(\u001b[0m\u001b[0mself\u001b[0m\u001b[1;33m,\u001b[0m \u001b[0mkey\u001b[0m\u001b[1;33m,\u001b[0m \u001b[0mvalue\u001b[0m\u001b[1;33m)\u001b[0m\u001b[1;33m\u001b[0m\u001b[1;33m\u001b[0m\u001b[0m\n\u001b[0;32m   3196\u001b[0m \u001b[1;33m\u001b[0m\u001b[0m\n",
      "\u001b[1;32m~\\Anaconda3\\lib\\site-packages\\pandas\\core\\frame.py\u001b[0m in \u001b[0;36m_sanitize_column\u001b[1;34m(self, key, value, broadcast)\u001b[0m\n\u001b[0;32m   3389\u001b[0m \u001b[1;33m\u001b[0m\u001b[0m\n\u001b[0;32m   3390\u001b[0m             \u001b[1;31m# turn me into an ndarray\u001b[0m\u001b[1;33m\u001b[0m\u001b[1;33m\u001b[0m\u001b[1;33m\u001b[0m\u001b[0m\n\u001b[1;32m-> 3391\u001b[1;33m             \u001b[0mvalue\u001b[0m \u001b[1;33m=\u001b[0m \u001b[0m_sanitize_index\u001b[0m\u001b[1;33m(\u001b[0m\u001b[0mvalue\u001b[0m\u001b[1;33m,\u001b[0m \u001b[0mself\u001b[0m\u001b[1;33m.\u001b[0m\u001b[0mindex\u001b[0m\u001b[1;33m,\u001b[0m \u001b[0mcopy\u001b[0m\u001b[1;33m=\u001b[0m\u001b[1;32mFalse\u001b[0m\u001b[1;33m)\u001b[0m\u001b[1;33m\u001b[0m\u001b[1;33m\u001b[0m\u001b[0m\n\u001b[0m\u001b[0;32m   3392\u001b[0m             \u001b[1;32mif\u001b[0m \u001b[1;32mnot\u001b[0m \u001b[0misinstance\u001b[0m\u001b[1;33m(\u001b[0m\u001b[0mvalue\u001b[0m\u001b[1;33m,\u001b[0m \u001b[1;33m(\u001b[0m\u001b[0mnp\u001b[0m\u001b[1;33m.\u001b[0m\u001b[0mndarray\u001b[0m\u001b[1;33m,\u001b[0m \u001b[0mIndex\u001b[0m\u001b[1;33m)\u001b[0m\u001b[1;33m)\u001b[0m\u001b[1;33m:\u001b[0m\u001b[1;33m\u001b[0m\u001b[1;33m\u001b[0m\u001b[0m\n\u001b[0;32m   3393\u001b[0m                 \u001b[1;32mif\u001b[0m \u001b[0misinstance\u001b[0m\u001b[1;33m(\u001b[0m\u001b[0mvalue\u001b[0m\u001b[1;33m,\u001b[0m \u001b[0mlist\u001b[0m\u001b[1;33m)\u001b[0m \u001b[1;32mand\u001b[0m \u001b[0mlen\u001b[0m\u001b[1;33m(\u001b[0m\u001b[0mvalue\u001b[0m\u001b[1;33m)\u001b[0m \u001b[1;33m>\u001b[0m \u001b[1;36m0\u001b[0m\u001b[1;33m:\u001b[0m\u001b[1;33m\u001b[0m\u001b[1;33m\u001b[0m\u001b[0m\n",
      "\u001b[1;32m~\\Anaconda3\\lib\\site-packages\\pandas\\core\\series.py\u001b[0m in \u001b[0;36m_sanitize_index\u001b[1;34m(data, index, copy)\u001b[0m\n\u001b[0;32m   3999\u001b[0m \u001b[1;33m\u001b[0m\u001b[0m\n\u001b[0;32m   4000\u001b[0m     \u001b[1;32mif\u001b[0m \u001b[0mlen\u001b[0m\u001b[1;33m(\u001b[0m\u001b[0mdata\u001b[0m\u001b[1;33m)\u001b[0m \u001b[1;33m!=\u001b[0m \u001b[0mlen\u001b[0m\u001b[1;33m(\u001b[0m\u001b[0mindex\u001b[0m\u001b[1;33m)\u001b[0m\u001b[1;33m:\u001b[0m\u001b[1;33m\u001b[0m\u001b[1;33m\u001b[0m\u001b[0m\n\u001b[1;32m-> 4001\u001b[1;33m         \u001b[1;32mraise\u001b[0m \u001b[0mValueError\u001b[0m\u001b[1;33m(\u001b[0m\u001b[1;34m'Length of values does not match length of '\u001b[0m \u001b[1;34m'index'\u001b[0m\u001b[1;33m)\u001b[0m\u001b[1;33m\u001b[0m\u001b[1;33m\u001b[0m\u001b[0m\n\u001b[0m\u001b[0;32m   4002\u001b[0m \u001b[1;33m\u001b[0m\u001b[0m\n\u001b[0;32m   4003\u001b[0m     \u001b[1;32mif\u001b[0m \u001b[0misinstance\u001b[0m\u001b[1;33m(\u001b[0m\u001b[0mdata\u001b[0m\u001b[1;33m,\u001b[0m \u001b[0mABCIndexClass\u001b[0m\u001b[1;33m)\u001b[0m \u001b[1;32mand\u001b[0m \u001b[1;32mnot\u001b[0m \u001b[0mcopy\u001b[0m\u001b[1;33m:\u001b[0m\u001b[1;33m\u001b[0m\u001b[1;33m\u001b[0m\u001b[0m\n",
      "\u001b[1;31mValueError\u001b[0m: Length of values does not match length of index"
     ]
    }
   ],
   "source": [
    "video[\"AgeMeanBin\"] = bin_means"
   ]
  },
  {
   "cell_type": "code",
   "execution_count": null,
   "metadata": {},
   "outputs": [],
   "source": []
  }
 ],
 "metadata": {
  "kernelspec": {
   "display_name": "Python 3",
   "language": "python",
   "name": "python3"
  },
  "language_info": {
   "codemirror_mode": {
    "name": "ipython",
    "version": 3
   },
   "file_extension": ".py",
   "mimetype": "text/x-python",
   "name": "python",
   "nbconvert_exporter": "python",
   "pygments_lexer": "ipython3",
   "version": "3.7.1"
  }
 },
 "nbformat": 4,
 "nbformat_minor": 2
}
