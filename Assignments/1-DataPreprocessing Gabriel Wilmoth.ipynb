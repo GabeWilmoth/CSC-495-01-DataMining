{
 "cells": [
  {
   "cell_type": "markdown",
   "metadata": {},
   "source": [
    "# 1-Data PreProcessing\n",
    "## Gabriel Wilmoth"
   ]
  },
  {
   "cell_type": "code",
   "execution_count": 1,
   "metadata": {},
   "outputs": [],
   "source": [
    "import numpy as np    # for carrying out efficient computations\n",
    "import pandas as pd   # for data manipulation and analysis\n",
    "import seaborn as sns # library for making statistical graphics in Python\n",
    "import matplotlib.pyplot as plt  #for visualizing the data\n",
    "import math\n",
    "\n",
    "%matplotlib inline  "
   ]
  },
  {
   "cell_type": "code",
   "execution_count": 6,
   "metadata": {},
   "outputs": [],
   "source": [
    "video = pd.read_csv('./Data/Video_Store.tsv', sep='\\t', header=0)"
   ]
  },
  {
   "cell_type": "code",
   "execution_count": 7,
   "metadata": {},
   "outputs": [
    {
     "data": {
      "text/html": [
       "<div>\n",
       "<style scoped>\n",
       "    .dataframe tbody tr th:only-of-type {\n",
       "        vertical-align: middle;\n",
       "    }\n",
       "\n",
       "    .dataframe tbody tr th {\n",
       "        vertical-align: top;\n",
       "    }\n",
       "\n",
       "    .dataframe thead th {\n",
       "        text-align: right;\n",
       "    }\n",
       "</style>\n",
       "<table border=\"1\" class=\"dataframe\">\n",
       "  <thead>\n",
       "    <tr style=\"text-align: right;\">\n",
       "      <th></th>\n",
       "      <th>Cust ID</th>\n",
       "      <th>Gender</th>\n",
       "      <th>Income</th>\n",
       "      <th>Age</th>\n",
       "      <th>Rentals</th>\n",
       "      <th>Avg Per Visit</th>\n",
       "      <th>Incidentals</th>\n",
       "      <th>Genre</th>\n",
       "    </tr>\n",
       "  </thead>\n",
       "  <tbody>\n",
       "    <tr>\n",
       "      <th>0</th>\n",
       "      <td>1</td>\n",
       "      <td>M</td>\n",
       "      <td>$45,000</td>\n",
       "      <td>25</td>\n",
       "      <td>27</td>\n",
       "      <td>2.5</td>\n",
       "      <td>Yes</td>\n",
       "      <td>Action</td>\n",
       "    </tr>\n",
       "    <tr>\n",
       "      <th>1</th>\n",
       "      <td>2</td>\n",
       "      <td>F</td>\n",
       "      <td>$54,000</td>\n",
       "      <td>33</td>\n",
       "      <td>12</td>\n",
       "      <td>3.4</td>\n",
       "      <td>No</td>\n",
       "      <td>Drama</td>\n",
       "    </tr>\n",
       "    <tr>\n",
       "      <th>2</th>\n",
       "      <td>3</td>\n",
       "      <td>F</td>\n",
       "      <td>$32,000</td>\n",
       "      <td>20</td>\n",
       "      <td>42</td>\n",
       "      <td>1.6</td>\n",
       "      <td>No</td>\n",
       "      <td>Comedy</td>\n",
       "    </tr>\n",
       "    <tr>\n",
       "      <th>3</th>\n",
       "      <td>4</td>\n",
       "      <td>F</td>\n",
       "      <td>$59,000</td>\n",
       "      <td>70</td>\n",
       "      <td>16</td>\n",
       "      <td>4.2</td>\n",
       "      <td>Yes</td>\n",
       "      <td>Drama</td>\n",
       "    </tr>\n",
       "    <tr>\n",
       "      <th>4</th>\n",
       "      <td>5</td>\n",
       "      <td>M</td>\n",
       "      <td>$37,000</td>\n",
       "      <td>35</td>\n",
       "      <td>25</td>\n",
       "      <td>3.2</td>\n",
       "      <td>Yes</td>\n",
       "      <td>Action</td>\n",
       "    </tr>\n",
       "  </tbody>\n",
       "</table>\n",
       "</div>"
      ],
      "text/plain": [
       "   Cust ID Gender   Income  Age  Rentals  Avg Per Visit Incidentals   Genre\n",
       "0        1      M  $45,000   25       27            2.5         Yes  Action\n",
       "1        2      F  $54,000   33       12            3.4          No   Drama\n",
       "2        3      F  $32,000   20       42            1.6          No  Comedy\n",
       "3        4      F  $59,000   70       16            4.2         Yes   Drama\n",
       "4        5      M  $37,000   35       25            3.2         Yes  Action"
      ]
     },
     "execution_count": 7,
     "metadata": {},
     "output_type": "execute_result"
    }
   ],
   "source": [
    "video.head()"
   ]
  },
  {
   "cell_type": "markdown",
   "metadata": {},
   "source": [
    "## Q1.\n",
    "#### How many features are there?\n",
    " - There are 8 features.\n",
    " \n",
    "## Q2.\n",
    "#### How many features are continuous, and how many are nominal?\n",
    " - Continuous: Income, Age, Rentals, Avg Per Visit\n",
    " - Nominal: Cust ID, Gender, Incidentals, Genre"
   ]
  },
  {
   "cell_type": "code",
   "execution_count": 24,
   "metadata": {},
   "outputs": [],
   "source": [
    "video[\"Income\"] = video[\"Income\"].str.replace('$','')\n",
    "video[\"Income\"] = video[\"Income\"].str.replace(',','')\n",
    "video[\"Income\"] = video[\"Income\"].astype(float)"
   ]
  },
  {
   "cell_type": "code",
   "execution_count": 25,
   "metadata": {},
   "outputs": [
    {
     "data": {
      "text/html": [
       "<div>\n",
       "<style scoped>\n",
       "    .dataframe tbody tr th:only-of-type {\n",
       "        vertical-align: middle;\n",
       "    }\n",
       "\n",
       "    .dataframe tbody tr th {\n",
       "        vertical-align: top;\n",
       "    }\n",
       "\n",
       "    .dataframe thead th {\n",
       "        text-align: right;\n",
       "    }\n",
       "</style>\n",
       "<table border=\"1\" class=\"dataframe\">\n",
       "  <thead>\n",
       "    <tr style=\"text-align: right;\">\n",
       "      <th></th>\n",
       "      <th>Cust ID</th>\n",
       "      <th>Gender</th>\n",
       "      <th>Income</th>\n",
       "      <th>Age</th>\n",
       "      <th>Rentals</th>\n",
       "      <th>Avg Per Visit</th>\n",
       "      <th>Incidentals</th>\n",
       "      <th>Genre</th>\n",
       "    </tr>\n",
       "  </thead>\n",
       "  <tbody>\n",
       "    <tr>\n",
       "      <th>0</th>\n",
       "      <td>1</td>\n",
       "      <td>M</td>\n",
       "      <td>45000.0</td>\n",
       "      <td>25</td>\n",
       "      <td>27</td>\n",
       "      <td>2.5</td>\n",
       "      <td>Yes</td>\n",
       "      <td>Action</td>\n",
       "    </tr>\n",
       "    <tr>\n",
       "      <th>1</th>\n",
       "      <td>2</td>\n",
       "      <td>F</td>\n",
       "      <td>54000.0</td>\n",
       "      <td>33</td>\n",
       "      <td>12</td>\n",
       "      <td>3.4</td>\n",
       "      <td>No</td>\n",
       "      <td>Drama</td>\n",
       "    </tr>\n",
       "    <tr>\n",
       "      <th>2</th>\n",
       "      <td>3</td>\n",
       "      <td>F</td>\n",
       "      <td>32000.0</td>\n",
       "      <td>20</td>\n",
       "      <td>42</td>\n",
       "      <td>1.6</td>\n",
       "      <td>No</td>\n",
       "      <td>Comedy</td>\n",
       "    </tr>\n",
       "    <tr>\n",
       "      <th>3</th>\n",
       "      <td>4</td>\n",
       "      <td>F</td>\n",
       "      <td>59000.0</td>\n",
       "      <td>70</td>\n",
       "      <td>16</td>\n",
       "      <td>4.2</td>\n",
       "      <td>Yes</td>\n",
       "      <td>Drama</td>\n",
       "    </tr>\n",
       "    <tr>\n",
       "      <th>4</th>\n",
       "      <td>5</td>\n",
       "      <td>M</td>\n",
       "      <td>37000.0</td>\n",
       "      <td>35</td>\n",
       "      <td>25</td>\n",
       "      <td>3.2</td>\n",
       "      <td>Yes</td>\n",
       "      <td>Action</td>\n",
       "    </tr>\n",
       "  </tbody>\n",
       "</table>\n",
       "</div>"
      ],
      "text/plain": [
       "   Cust ID Gender   Income  Age  Rentals  Avg Per Visit Incidentals   Genre\n",
       "0        1      M  45000.0   25       27            2.5         Yes  Action\n",
       "1        2      F  54000.0   33       12            3.4          No   Drama\n",
       "2        3      F  32000.0   20       42            1.6          No  Comedy\n",
       "3        4      F  59000.0   70       16            4.2         Yes   Drama\n",
       "4        5      M  37000.0   35       25            3.2         Yes  Action"
      ]
     },
     "execution_count": 25,
     "metadata": {},
     "output_type": "execute_result"
    }
   ],
   "source": [
    "video.head()"
   ]
  },
  {
   "cell_type": "markdown",
   "metadata": {},
   "source": [
    "## Q3.\n",
    "#### For the continuous features, what are the average, median, maximum, and minimum values? What is the standard deviation?\n",
    "\n",
    "#### Income Stats:"
   ]
  },
  {
   "cell_type": "code",
   "execution_count": 27,
   "metadata": {},
   "outputs": [
    {
     "name": "stdout",
     "output_type": "stream",
     "text": [
      "Mean: 42300.0\n",
      "Median: 41000.0\n",
      "Max: 89000.0\n",
      "Min: 1000.0\n",
      "Standard Dev: 21409.753642216627\n"
     ]
    }
   ],
   "source": [
    "print('Mean:' , video[\"Income\"].mean())\n",
    "print('Median:' , video[\"Income\"].median())\n",
    "print('Max:' , video[\"Income\"].max())\n",
    "print('Min:' , video[\"Income\"].min())\n",
    "print('Standard Dev:' , video[\"Income\"].std())"
   ]
  },
  {
   "cell_type": "markdown",
   "metadata": {},
   "source": [
    "#### Age Stats:"
   ]
  },
  {
   "cell_type": "code",
   "execution_count": 28,
   "metadata": {},
   "outputs": [
    {
     "name": "stdout",
     "output_type": "stream",
     "text": [
      "Mean: 31.56\n",
      "Median: 30.0\n",
      "Max: 70\n",
      "Min: 15\n",
      "Standard Dev: 12.000272105758475\n"
     ]
    }
   ],
   "source": [
    "print('Mean:' , video[\"Age\"].mean())\n",
    "print('Median:' , video[\"Age\"].median())\n",
    "print('Max:' , video[\"Age\"].max())\n",
    "print('Min:' , video[\"Age\"].min())\n",
    "print('Standard Dev:' , video[\"Age\"].std())"
   ]
  },
  {
   "cell_type": "markdown",
   "metadata": {},
   "source": [
    "#### Rentals Stats:"
   ]
  },
  {
   "cell_type": "code",
   "execution_count": 29,
   "metadata": {},
   "outputs": [
    {
     "name": "stdout",
     "output_type": "stream",
     "text": [
      "Mean: 26.24\n",
      "Median: 25.0\n",
      "Max: 48\n",
      "Min: 9\n",
      "Standard Dev: 10.027635283941828\n"
     ]
    }
   ],
   "source": [
    "print('Mean:' , video[\"Rentals\"].mean())\n",
    "print('Median:' , video[\"Rentals\"].median())\n",
    "print('Max:' , video[\"Rentals\"].max())\n",
    "print('Min:' , video[\"Rentals\"].min())\n",
    "print('Standard Dev:' , video[\"Rentals\"].std())"
   ]
  },
  {
   "cell_type": "markdown",
   "metadata": {},
   "source": [
    "#### Avg Per Visit Stats:"
   ]
  },
  {
   "cell_type": "code",
   "execution_count": 30,
   "metadata": {},
   "outputs": [
    {
     "name": "stdout",
     "output_type": "stream",
     "text": [
      "Mean: 2.748\n",
      "Median: 2.75\n",
      "Max: 4.7\n",
      "Min: 1.1\n",
      "Standard Dev: 0.8981250310667058\n"
     ]
    }
   ],
   "source": [
    "print('Mean:' , video[\"Avg Per Visit\"].mean())\n",
    "print('Median:' , video[\"Avg Per Visit\"].median())\n",
    "print('Max:' , video[\"Avg Per Visit\"].max())\n",
    "print('Min:' , video[\"Avg Per Visit\"].min())\n",
    "print('Standard Dev:' , video[\"Avg Per Visit\"].std())"
   ]
  },
  {
   "cell_type": "markdown",
   "metadata": {},
   "source": [
    "## Q4.\n",
    "\n",
    "#### Perform the the following data preparation steps on the data (for each add a new column to the original table for comparison purposes)\n",
    "1. Use <strong> smoothing by bin means </strong> to smooth the values of the <strong>Age</strong> attribute. Use a <strong>bin depth of 4</strong>.\n",
    "2. Use <strong>min-max normalization</strong> to transform the values of the <strong>Income</strong> attribute onto the range <strong>[0.0-1.0]</strong>.\n",
    "3. Use <strong>z-score normalization</strong> to standardize the values of the <strong>Rentals</strong> attribute.\n",
    "4. <strong>Discretize</strong> the (original, non-normalized) <strong>Income</strong> attribute based on the following categories: High = 60K+; Mid = 25K-59K; Low = less than $25K."
   ]
  },
  {
   "cell_type": "code",
   "execution_count": null,
   "metadata": {},
   "outputs": [],
   "source": []
  }
 ],
 "metadata": {
  "kernelspec": {
   "display_name": "Python 3",
   "language": "python",
   "name": "python3"
  },
  "language_info": {
   "codemirror_mode": {
    "name": "ipython",
    "version": 3
   },
   "file_extension": ".py",
   "mimetype": "text/x-python",
   "name": "python",
   "nbconvert_exporter": "python",
   "pygments_lexer": "ipython3",
   "version": "3.7.1"
  }
 },
 "nbformat": 4,
 "nbformat_minor": 2
}
